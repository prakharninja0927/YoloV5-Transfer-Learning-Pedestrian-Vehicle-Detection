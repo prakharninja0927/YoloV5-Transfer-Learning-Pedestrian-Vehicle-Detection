{
 "cells": [
  {
   "cell_type": "code",
   "execution_count": 3,
   "metadata": {},
   "outputs": [],
   "source": [
    "from PIL import Image, ImageDraw\n",
    "import os\n",
    "import glob"
   ]
  },
  {
   "cell_type": "code",
   "execution_count": 9,
   "metadata": {},
   "outputs": [],
   "source": [
    "## Getting all file names of all images under different object folders and store accordingliy in dictionary\n",
    "\n",
    "objects = ['car','bicycle','bus','motorcycle','person','truck']\n",
    "\n",
    "def get_filenames(folder):\n",
    "    filenames = set()\n",
    "    \n",
    "    for path in glob.glob(os.path.join(folder, '*.jpg')):\n",
    "        # Extract the filename\n",
    "        filename = os.path.split(path)[-1]        \n",
    "        filenames.add(filename)\n",
    "\n",
    "    return filenames\n",
    "\n",
    "dictionary = {}\n",
    "\n",
    "for i in objects:\n",
    "    path = f'download/{i}/images/'\n",
    "    dictionary[i] = get_filenames(path)\n"
   ]
  },
  {
   "cell_type": "code",
   "execution_count": 10,
   "metadata": {},
   "outputs": [],
   "source": [
    "import numpy as np\n",
    "\n",
    "\n",
    "truck_images = np.array(list(dictionary['truck']))\n",
    "bicycle_images = np.array(list(dictionary['bicycle']))\n",
    "bus_images = np.array(list(dictionary['bus']))\n",
    "motorcycle_images = np.array(list(dictionary['motorcycle']))\n",
    "person_images = np.array(list(dictionary['person']))\n",
    "car_images = np.array(list(dictionary['car']))\n",
    "\n",
    "\n",
    "\n",
    "# Use the same random seed for reproducability\n",
    "np.random.seed(42)\n",
    "\n",
    "np.random.shuffle(truck_images)\n",
    "np.random.shuffle(bicycle_images)\n",
    "np.random.shuffle(bus_images)\n",
    "np.random.shuffle(motorcycle_images)\n",
    "np.random.shuffle(person_images)\n",
    "np.random.shuffle(car_images)\n",
    "\n",
    "\n",
    "object_images = [car_images, bicycle_images,bus_images, motorcycle_images, person_images, truck_images,]"
   ]
  },
  {
   "cell_type": "code",
   "execution_count": 11,
   "metadata": {},
   "outputs": [],
   "source": [
    "import shutil"
   ]
  },
  {
   "cell_type": "code",
   "execution_count": 12,
   "metadata": {},
   "outputs": [],
   "source": [
    "import shutil\n",
    "\n",
    "# generate training testing and validation data ---> of Images and Their Labels\n",
    "\n",
    "def split_dataset(object, image_names, train_size, val_size):\n",
    "    for i, image_name in enumerate(image_names):\n",
    "        # Label filename\n",
    "        label_name = image_name.replace('.jpg', '.txt')\n",
    "        \n",
    "        # Split into train, val, or test\n",
    "        if i < train_size:\n",
    "            split = 'train'\n",
    "        elif i < train_size + val_size:\n",
    "            split = 'val'\n",
    "        else:\n",
    "            split = 'test'\n",
    "        \n",
    "        # Source paths\n",
    "        source_image_path = f'download/{object}/images/{image_name}'\n",
    "        source_label_path = f'download/{object}/darknet/{label_name}'\n",
    "\n",
    "        # Destination paths\n",
    "        target_image_folder = f'database/images/{split}'\n",
    "        target_label_folder = f'database/labels/{split}'\n",
    "\n",
    "        # Copy files\n",
    "        shutil.copy(source_image_path, target_image_folder)\n",
    "        shutil.copy(source_label_path, target_label_folder)"
   ]
  },
  {
   "cell_type": "code",
   "execution_count": 13,
   "metadata": {},
   "outputs": [],
   "source": [
    "for name, file in zip(objects,object_images,):\n",
    "   split_dataset(name, file, train_size=480,val_size=50)"
   ]
  },
  {
   "cell_type": "code",
   "execution_count": null,
   "metadata": {},
   "outputs": [],
   "source": []
  }
 ],
 "metadata": {
  "kernelspec": {
   "display_name": "base",
   "language": "python",
   "name": "python3"
  },
  "language_info": {
   "codemirror_mode": {
    "name": "ipython",
    "version": 3
   },
   "file_extension": ".py",
   "mimetype": "text/x-python",
   "name": "python",
   "nbconvert_exporter": "python",
   "pygments_lexer": "ipython3",
   "version": "3.9.17"
  },
  "orig_nbformat": 4
 },
 "nbformat": 4,
 "nbformat_minor": 2
}
